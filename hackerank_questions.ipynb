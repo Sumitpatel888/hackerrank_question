{
  "nbformat": 4,
  "nbformat_minor": 0,
  "metadata": {
    "colab": {
      "provenance": []
    },
    "kernelspec": {
      "name": "python3",
      "display_name": "Python 3"
    },
    "language_info": {
      "name": "python"
    }
  },
  "cells": [
    {
      "cell_type": "code",
      "execution_count": null,
      "metadata": {
        "id": "UN2aLqh9ohwk"
      },
      "outputs": [],
      "source": [
        "# 1)\n",
        "'''\n",
        "Given an integer n , , perform the following conditional actions:\n",
        "\n",
        "If  is odd, print Weird\n",
        "If  is even and in the inclusive range of 2  to  5, print Not Weird\n",
        "If  is even and in the inclusive range of 6 to 20, print Weird\n",
        "If  is even and greater than 20 , print Not Weird\n",
        "\n",
        "'''\n",
        "\n",
        "if __name__ == '__main__':\n",
        "    n = int(input().strip())\n",
        "    if n % 2 != 0:\n",
        "        print(\"Weird\")\n",
        "    elif n in range(2,6):\n",
        "        print(\"Not Weird\")\n",
        "    elif n in range(6,21):\n",
        "        print(\"Weird\")\n",
        "    elif n > 20:\n",
        "        print(\"Not Weird\")"
      ]
    },
    {
      "cell_type": "code",
      "source": [
        "def print_weirdness(n):\n",
        "    if n % 2 != 0:\n",
        "        print(\"Weird\")\n",
        "    else:\n",
        "        if 2 <= n <= 5 or n > 20:\n",
        "            print(\"Not Weird\")\n",
        "        elif 6 <= n <= 20:\n",
        "            print(\"Weird\")\n",
        "\n",
        "# Test the function\n",
        "n = int(input(\"Enter an integer: \"))\n",
        "print_weirdness(n)"
      ],
      "metadata": {
        "id": "9ygyemYRrbwF"
      },
      "execution_count": null,
      "outputs": []
    },
    {
      "cell_type": "code",
      "source": [
        "# 2 :-) The provided code stub reads and integer n, , from STDIN. For all non-negative integers i < n , print .i square\n",
        "\n",
        "if __name__ == '__main__':\n",
        "  n = int(input())\n",
        "  for i in range(n):\n",
        "    print(i**2)"
      ],
      "metadata": {
        "colab": {
          "base_uri": "https://localhost:8080/"
        },
        "id": "5hToUfyHu4Xb",
        "outputId": "35f3616e-10be-4e39-f22b-1616fa3c72b4"
      },
      "execution_count": null,
      "outputs": [
        {
          "output_type": "stream",
          "name": "stdout",
          "text": [
            "5\n",
            "0\n",
            "1\n",
            "4\n",
            "9\n",
            "16\n"
          ]
        }
      ]
    },
    {
      "cell_type": "code",
      "source": [
        "# 3 :-) Given a year, determine whether it is a leap year. If it is a leap year, return the Boolean True, otherwise return False.\n",
        "#       Note that the code stub provided reads from STDIN and passes arguments to the is_leap function. It is only necessary to complete the is_leap function.\n",
        "\n",
        "\n",
        "def is_leap(year):\n",
        "    leap = False\n",
        "\n",
        "    # Write your logic here\n",
        "    if year % 4==0 and(year % 100 != 0 or year % 400 == 0):\n",
        "        return True\n",
        "    else:\n",
        "        return False\n",
        "\n",
        "    return leap\n",
        "\n",
        "year = int(input())\n",
        "print(is_leap(year))"
      ],
      "metadata": {
        "id": "Ec1NiO4o48ip"
      },
      "execution_count": null,
      "outputs": []
    },
    {
      "cell_type": "code",
      "source": [
        "#  4 :-)\n",
        "''' The included code stub will read an integer, , from STDIN.\n",
        "\n",
        "Without using any string methods, try to print the following:\n",
        "\n",
        "\n",
        "Note that \"\" represents the consecutive values in between.\n",
        "\n",
        "Example\n",
        "\n",
        "Print the string .'''\n",
        "\n",
        "if __name__ == '__main__':\n",
        "    n = int(input())\n",
        "    for i in range(1,n+1):\n",
        "        print(i , end=\"\")"
      ],
      "metadata": {
        "colab": {
          "base_uri": "https://localhost:8080/"
        },
        "id": "YkfZrt04ESDG",
        "outputId": "050fed27-9ec3-4164-d4d6-1c888d0925e7"
      },
      "execution_count": null,
      "outputs": [
        {
          "output_type": "stream",
          "name": "stdout",
          "text": [
            "5\n",
            "1234"
          ]
        }
      ]
    },
    {
      "cell_type": "code",
      "source": [
        "# 5 :-)\n",
        "\n",
        "'''You are given a string s.\n",
        "Your task is to print all possible permutations of size k of the string in lexicographic sorted order.\n",
        "'''\n",
        "# from itertools import permutations\n",
        "# str1, int1 = input().split()\n",
        "\n",
        "# for i in sorted(permutations(str1, int(int1))):\n",
        "#     print (''.join(i))\n",
        "\n",
        "\n",
        "def generate_permutations(s, k):\n",
        "    def backtrack(start, path):\n",
        "        if len(path) == k:\n",
        "            print(\"\".join(path))\n",
        "            return\n",
        "        for i in range(start, len(s)):\n",
        "            path.append(s[i])\n",
        "            backtrack(i + 1, path)\n",
        "            path.pop()\n",
        "\n",
        "    # Sort the string to ensure lexicographic order\n",
        "    s = \"\".join(sorted(s))\n",
        "    backtrack(0, [])\n",
        "\n",
        "# Example usage:\n",
        "input_string = \"abcde\"\n",
        "k = 2\n",
        "generate_permutations(input_string, k)"
      ],
      "metadata": {
        "colab": {
          "base_uri": "https://localhost:8080/"
        },
        "id": "qMUvPQyaS2eY",
        "outputId": "ec11cbc5-494f-4b8a-de5c-90d4e38fd108"
      },
      "execution_count": null,
      "outputs": [
        {
          "output_type": "stream",
          "name": "stdout",
          "text": [
            "ab\n",
            "ac\n",
            "ad\n",
            "ae\n",
            "bc\n",
            "bd\n",
            "be\n",
            "cd\n",
            "ce\n",
            "de\n"
          ]
        }
      ]
    },
    {
      "cell_type": "code",
      "source": [
        "# 6:-) You are given a string S. Your task is to print all possible combinations, up to size k, of the string in lexicographic sorted order.\n",
        "\n",
        "\n",
        "from itertools import combinations\n",
        "word,length = input().split()\n",
        "\n",
        "for i in range(1, int(length)+1):\n",
        "    for j in combinations(sorted(word), i):\n",
        "        print (''.join(j))"
      ],
      "metadata": {
        "id": "STTd084Ul-4M"
      },
      "execution_count": null,
      "outputs": []
    },
    {
      "cell_type": "code",
      "source": [
        "# 7:-)\n",
        "'''In this task, we would like for you to appreciate the usefulness of the groupby() function of itertools. You are given a string  S.\n",
        "   Suppose a character C occurs consecutively X times in the string. Replace these consecutive occurrences of the character C with (X, C) in the string.'''\n",
        "\n",
        "from itertools import groupby\n",
        "\n",
        "# using for loop to iterate through the string\n",
        "for k, c in groupby(input()):\n",
        "\n",
        "    #printing the output\n",
        "    print(\"(%d, %d)\" % (len(list(c)), int(k)), end=' ')"
      ],
      "metadata": {
        "id": "ZBc3ObkcvT1z"
      },
      "execution_count": null,
      "outputs": []
    }
  ]
}